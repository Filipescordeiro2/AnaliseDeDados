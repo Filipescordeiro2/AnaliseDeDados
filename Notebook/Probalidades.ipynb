{
 "cells": [
  {
   "cell_type": "markdown",
   "metadata": {},
   "source": [
    "# Import de bibliotecas"
   ]
  },
  {
   "cell_type": "code",
   "execution_count": 5,
   "metadata": {},
   "outputs": [],
   "source": [
    "# Importando bibliotecas\n",
    "import pandas as pd\n",
    "import numpy as np\n",
    "import os\n",
    "import matplotlib.pyplot as plt\n",
    "import seaborn as sns\n",
    "import openpyxl\n"
   ]
  },
  {
   "cell_type": "markdown",
   "metadata": {},
   "source": [
    "# Conversão do arquivo para utf-8"
   ]
  },
  {
   "cell_type": "code",
   "execution_count": 6,
   "metadata": {},
   "outputs": [
    {
     "name": "stdout",
     "output_type": "stream",
     "text": [
      "Arquivo convertido e salvo como C:\\Users\\USER\\Desktop\\Analise_de_Dados\\Data\\Most Streamed Spotify Songs 2024_utf8.csv\n"
     ]
    }
   ],
   "source": [
    "# Nome do arquivo CSV original e do novo arquivo\n",
    "input_file = r'C:\\Users\\USER\\Desktop\\Analise_de_Dados\\Data\\Most Streamed Spotify Songs 2024.csv'\n",
    "output_file = r'C:\\Users\\USER\\Desktop\\Analise_de_Dados\\Data\\Most Streamed Spotify Songs 2024_utf8.csv'\n",
    "\n",
    "# Ler o arquivo CSV com a codificação original (substitua 'ISO-8859-1' pela codificação original, se necessário)\n",
    "df = pd.read_csv(input_file, encoding='latin1')  # Altere a codificação se necessário\n",
    "\n",
    "# Salvar o DataFrame em um novo arquivo CSV com codificação UTF-8\n",
    "df.to_csv(output_file, index=False, encoding='utf-8')\n",
    "\n",
    "print(f\"Arquivo convertido e salvo como {output_file}\")"
   ]
  },
  {
   "cell_type": "markdown",
   "metadata": {},
   "source": [
    "# Trantamento da base de dados\n"
   ]
  },
  {
   "cell_type": "code",
   "execution_count": 8,
   "metadata": {},
   "outputs": [],
   "source": [
    "df_principal = pd.read_csv(r'C:\\Users\\USER\\Desktop\\Analise_de_Dados\\Data\\Most Streamed Spotify Songs 2024_utf8.csv')\n",
    "\n",
    "# Traduzindo os nomes das colunas para português\n",
    "df_principal = df_principal.rename(columns={\n",
    "    'Track': 'Nome da Música',\n",
    "    'Album Name': 'Nome do Álbum',\n",
    "    'Artist': 'Artista',\n",
    "    'Release Date': 'Data de Lançamento',\n",
    "    'ISRC': 'ISRC',\n",
    "    'All Time Rank': 'Classificação Geral',\n",
    "    'Track Score': 'Pontuação da Faixa',\n",
    "    'Spotify Streams': 'Reproduções no Spotify',\n",
    "    'Spotify Playlist Count': 'Contagem de Playlists no Spotify',\n",
    "    'Spotify Playlist Reach': 'Alcance de Playlists no Spotify',\n",
    "    'Spotify Popularity': 'Popularidade no Spotify',\n",
    "    'YouTube Views': 'Visualizações no YouTube',\n",
    "    'YouTube Likes': 'Curtidas no YouTube',\n",
    "    'TikTok Posts': 'Postagens no TikTok',\n",
    "    'TikTok Likes': 'Curtidas no TikTok',\n",
    "    'TikTok Views': 'Visualizações no TikTok',\n",
    "    'YouTube Playlist Reach': 'Alcance de Playlists no YouTube',\n",
    "    'Apple Music Playlist Count': 'Contagem de Playlists no Apple Music',\n",
    "    'AirPlay Spins': 'Reproduções no AirPlay',\n",
    "    'SiriusXM Spins': 'Reproduções no SiriusXM',\n",
    "    'Deezer Playlist Count': 'Contagem de Playlists no Deezer',\n",
    "    'Deezer Playlist Reach': 'Alcance de Playlists no Deezer',\n",
    "    'Amazon Playlist Count': 'Contagem de Playlists na Amazon',\n",
    "    'Pandora Streams': 'Reproduções no Pandora',\n",
    "    'Pandora Track Stations': 'Estações de Faixas no Pandora',\n",
    "    'Soundcloud Streams': 'Reproduções no Soundcloud',\n",
    "    'Shazam Counts': 'Contagens no Shazam',\n",
    "    'TIDAL Popularity': 'Popularidade no TIDAL',\n",
    "    'Explicit Track': 'Faixa Explícita'\n",
    "})\n",
    "\n",
    "# Convertendo todas as colunas para o mesmo tipo de dados (string)\n",
    "df_principal = df_principal.astype(str)\n",
    "\n",
    "df_principal['Faixa Explícita'] = df_principal['Faixa Explícita'].astype(int)\n",
    "\n",
    "# Lista de colunas a serem convertidas\n",
    "colunas = ['Reproduções no Spotify', 'Contagem de Playlists no Spotify', 'Alcance de Playlists no Spotify',\n",
    "           'Popularidade no Spotify', 'Visualizações no YouTube', 'Curtidas no YouTube',\n",
    "           'Postagens no TikTok', 'Curtidas no TikTok', 'Visualizações no TikTok',\n",
    "           'Alcance de Playlists no YouTube', 'Contagem de Playlists no Apple Music',\n",
    "           'Reproduções no AirPlay', 'Reproduções no SiriusXM', 'Contagem de Playlists no Deezer',\n",
    "           'Alcance de Playlists no Deezer', 'Contagem de Playlists na Amazon',\n",
    "           'Reproduções no Pandora', 'Estações de Faixas no Pandora', 'Reproduções no Soundcloud',\n",
    "           'Contagens no Shazam']\n",
    "\n",
    "df_principal[colunas] = df_principal[colunas].apply(lambda x: x.str.replace(',', '').astype(float))\n",
    "\n",
    "df_principal['Ano de Lançamento'] = pd.to_datetime(df_principal['Data de Lançamento']).dt.year\n",
    "\n"
   ]
  },
  {
   "cell_type": "markdown",
   "metadata": {},
   "source": [
    "# Função de salvar"
   ]
  },
  {
   "cell_type": "code",
   "execution_count": 22,
   "metadata": {},
   "outputs": [],
   "source": [
    "def salvar_resultados_em_excel(df, caminho_arquivo):\n",
    "    try:\n",
    "        # Verificando se o diretório existe, caso não exista, criá-lo\n",
    "        if not os.path.exists(os.path.dirname(caminho_arquivo)):\n",
    "            os.makedirs(os.path.dirname(caminho_arquivo))\n",
    "\n",
    "        # Salvando o DataFrame em um arquivo Excel\n",
    "        df.to_excel(caminho_arquivo, index=False)\n",
    "        print(f\"Salvo em {os.path.dirname(caminho_arquivo)}\")\n",
    "    except Exception as e:\n",
    "        print(f\"Não foi possível salvar o arquivo: {e}\")"
   ]
  },
  {
   "cell_type": "markdown",
   "metadata": {},
   "source": [
    "# Calculos"
   ]
  },
  {
   "cell_type": "markdown",
   "metadata": {},
   "source": [
    "# Analise - Qual a probalidade de um artista lançar mais de 1 album por ano "
   ]
  },
  {
   "cell_type": "code",
   "execution_count": 24,
   "metadata": {},
   "outputs": [
    {
     "name": "stdout",
     "output_type": "stream",
     "text": [
      "Probabilidade de um artista lançar mais de 1 álbum por ano: 0.23\n",
      "Salvo em C:\\Users\\USER\\Desktop\\Analise_de_Dados\\Data_Result\\Probalidades\\Analise_Qual a probalidade de um artista lançar mais de 1 album por ano\n"
     ]
    }
   ],
   "source": [
    "# Filtrando o DataFrame para incluir apenas os anos entre 2014 e 2024\n",
    "df_anos_selecionados = df_principal[df_principal['Ano de Lançamento'].between(2014, 2024)]\n",
    "\n",
    "# Agrupando por 'Ano de Lançamento' e 'Nome do Artista' e contando o número de álbuns por artista e ano\n",
    "albuns_por_ano_artista = df_anos_selecionados.groupby(['Ano de Lançamento', 'Artista'])['Nome do Álbum'].count()\n",
    "\n",
    "# Calculando a probabilidade de um artista lançar mais de 1 álbum por ano\n",
    "probabilidade_mais_de_um_album = (albuns_por_ano_artista > 1).mean()\n",
    "print(f\"Probabilidade de um artista lançar mais de 1 álbum por ano: {probabilidade_mais_de_um_album:.2f}\")\n",
    "\n",
    "# Criando uma tabela para mostrar o resultado\n",
    "resultados = pd.DataFrame({\n",
    "    'Probabilidade de Mais de 1 Álbum por Ano': [probabilidade_mais_de_um_album]\n",
    "})\n",
    "\n",
    "salvar_resultados_em_excel(resultados,r'C:\\Users\\USER\\Desktop\\Analise_de_Dados\\Data_Result\\Probalidades\\Analise_Qual a probalidade de um artista lançar mais de 1 album por ano\\probalidade_de_album_por_ano.xlsx')"
   ]
  },
  {
   "cell_type": "markdown",
   "metadata": {},
   "source": [
    "# Analise - Qual a probalidade de um artista ter mais de 1milhao de reproduções no spotity em 2023"
   ]
  },
  {
   "cell_type": "code",
   "execution_count": 27,
   "metadata": {},
   "outputs": [
    {
     "name": "stdout",
     "output_type": "stream",
     "text": [
      "Probabilidade de um artista ter mais de 1 milhão de reproduções no Spotify em 2023: 0.88\n",
      "Salvo em C:\\Users\\USER\\Desktop\\Analise_de_Dados\\Data_Result\\Probalidades\\Analise_Qual a probalidade de um artista ter mais de 1milhao de reproducoes no spotity em 2023\n"
     ]
    }
   ],
   "source": [
    "# Filtrando os dados para apenas incluir o Ano de Lançamento de 2023\n",
    "df_2023 = df_principal[df_principal['Ano de Lançamento'] == 2023]\n",
    "\n",
    "# Calculando a proporção de artistas que têm pelo menos uma música com mais de 1 milhão de reproduções\n",
    "probabilidade_mais_de_um_milhao = (df_2023.groupby('Artista')['Reproduções no Spotify'].max() > 1000000).mean()\n",
    "print(f\"Probabilidade de um artista ter mais de 1 milhão de reproduções no Spotify em 2023: {probabilidade_mais_de_um_milhao:.2f}\")\n",
    "\n",
    "# Criando uma tabela para mostrar o resultado\n",
    "resultados = pd.DataFrame({\n",
    "    'Probabilidade de Mais de 1 Milhão de Reproduções': [probabilidade_mais_de_um_milhao]\n",
    "})\n",
    "\n",
    "salvar_resultados_em_excel(resultados,r'C:\\Users\\USER\\Desktop\\Analise_de_Dados\\Data_Result\\Probalidades\\Analise_Qual a probalidade de um artista ter mais de 1milhao de reproducoes no spotity em 2023\\probabilidade_de_mais_de_um_milhao.xlsx')\n"
   ]
  },
  {
   "cell_type": "markdown",
   "metadata": {},
   "source": [
    "# Analise - Qual a probalidade de um artista lançar musicas repitidas (2014 a 2024)"
   ]
  },
  {
   "cell_type": "code",
   "execution_count": 31,
   "metadata": {},
   "outputs": [
    {
     "name": "stdout",
     "output_type": "stream",
     "text": [
      "Probabilidade de um artista lançar músicas repetidas entre 2014 e 2024: 0.11\n",
      "Salvo em C:\\Users\\USER\\Desktop\\Analise_de_Dados\\Data_Result\\Probalidades\\Analise_Qual a probalidade de um artista lancar musicas repitidas de 2014 a 2024\n"
     ]
    }
   ],
   "source": [
    "# Filtrando os dados por ano\n",
    "df_filtrado_por_ano = df_principal[df_principal['Ano de Lançamento'].between(2014, 2024)]\n",
    "\n",
    "# Contando as músicas repetidas\n",
    "musicas_repetidas = df_filtrado_por_ano['Nome da Música'].value_counts()\n",
    "\n",
    "# Filtrando os artistas com músicas repetidas\n",
    "artistas_com_musicas_repetidas = df_filtrado_por_ano[df_filtrado_por_ano['Nome da Música'].isin(musicas_repetidas[musicas_repetidas > 1].index)]\n",
    "\n",
    "# Calculando a probabilidade de um artista ter músicas repetidas\n",
    "probabilidade_musicas_repetidas = len(artistas_com_musicas_repetidas['Artista'].unique()) / len(df_filtrado_por_ano['Artista'].unique())\n",
    "\n",
    "print(f\"Probabilidade de um artista lançar músicas repetidas entre 2014 e 2024: {probabilidade_musicas_repetidas:.2f}\")\n",
    "\n",
    "# Criando uma tabela para mostrar o resultado\n",
    "resultados = pd.DataFrame({\n",
    "    'Probabilidade de Músicas Repetidas': [probabilidade_musicas_repetidas]\n",
    "})\n",
    "\n",
    "salvar_resultados_em_excel(resultados, r'C:\\Users\\USER\\Desktop\\Analise_de_Dados\\Data_Result\\Probalidades\\Analise_Qual a probalidade de um artista lancar musicas repitidas de 2014 a 2024\\probabilidade_de_musicas_repetidas.xlsx')\n",
    "\n"
   ]
  },
  {
   "cell_type": "markdown",
   "metadata": {},
   "source": [
    "# Analise - Qual a probalidade de um artista ter mais de 1 milhao de reproduções no youtube em 2023"
   ]
  },
  {
   "cell_type": "code",
   "execution_count": 34,
   "metadata": {},
   "outputs": [
    {
     "name": "stdout",
     "output_type": "stream",
     "text": [
      "Probabilidade de um artista ter mais de 1 milhão de Visualizações no YouTube em 2023: 0.92\n",
      "Salvo em C:\\Users\\USER\\Desktop\\Analise_de_Dados\\Data_Result\\Probalidades\\Analise_Qual a probalidade de um artista ter mais de 1milhao de Visualizações no YouTube em 2023\n"
     ]
    }
   ],
   "source": [
    "# Filtrando os dados para apenas incluir o Ano de Lançamento de 2023\n",
    "df_2023 = df_principal[df_principal['Ano de Lançamento'] == 2023]\n",
    "\n",
    "# Calculando a proporção de artistas que têm pelo menos uma música com mais de 1 milhão de reproduções\n",
    "probabilidade_mais_de_um_milhao = (df_2023.groupby('Artista')['Visualizações no YouTube'].max() > 1000000).mean()\n",
    "print(f\"Probabilidade de um artista ter mais de 1 milhão de Visualizações no YouTube em 2023: {probabilidade_mais_de_um_milhao:.2f}\")\n",
    "\n",
    "# Criando uma tabela para mostrar o resultado\n",
    "resultados = pd.DataFrame({\n",
    "    'Probabilidade de Mais de 1 Milhão de Reproduções': [probabilidade_mais_de_um_milhao]\n",
    "})\n",
    "\n",
    "salvar_resultados_em_excel(resultados,r'C:\\Users\\USER\\Desktop\\Analise_de_Dados\\Data_Result\\Probalidades\\Analise_Qual a probalidade de um artista ter mais de 1milhao de Visualizações no YouTube em 2023\\probabilidade_de_mais_de_um_milhao.xlsx')\n"
   ]
  },
  {
   "cell_type": "markdown",
   "metadata": {},
   "source": [
    "# Analise condicional - probabilidade de uma música ter uma popularidade alta no Spotify dado que ela possui um número elevado de postagens no TikTok"
   ]
  },
  {
   "cell_type": "code",
   "execution_count": 50,
   "metadata": {},
   "outputs": [
    {
     "name": "stdout",
     "output_type": "stream",
     "text": [
      "Interpretação estatística: A probabilidade de uma música ter uma popularidade alta no Spotify dado que ela possui um número elevado de postagens no TikTok é de: 0.04\n",
      "Interpretação Estatística do Resultado:\n",
      "A probabilidade de 0.04, ou 4%, indica que, entre as músicas que possuem um elevado número de postagens no TikTok (acima do limiar definido), apenas 4% também têm uma alta popularidade no Spotify (definida como uma pontuação de popularidade acima de 80).\n",
      "O que isso significa?\n",
      "Relação Fraca: Essa probabilidade relativamente baixa sugere que há uma relação fraca entre a popularidade no Spotify e a quantidade de postagens no TikTok. Em outras palavras, ter muitas postagens no TikTok não garante que a música será popular no Spotify.\n",
      "Fatores Externos: A popularidade de uma música pode depender de muitos fatores além das postagens no TikTok, como:\n",
      "A qualidade da música.\n",
      "A promoção em outras plataformas.\n",
      "A presença do artista na mídia.\n",
      "Tendências e desafios virais que podem não estar necessariamente ligados a postagens no TikTok.\n",
      "Estratégias de Marketing: Para artistas e equipes de marketing, essa informação pode ser útil para entender que, embora o TikTok possa ajudar na promoção de uma música, não é a única variável a considerar para alcançar a popularidade no Spotify.\n"
     ]
    }
   ],
   "source": [
    "# Definindo os limiares para popularidade e postagens no TikTok\n",
    "limiar_popularidade = 80\n",
    "limiar_postagens_tiktok = 50\n",
    "\n",
    "# Calculando os eventos\n",
    "evento_A = df_principal['Popularidade no Spotify'] > limiar_popularidade\n",
    "evento_B = df_principal['Postagens no TikTok'] > limiar_postagens_tiktok\n",
    "\n",
    "# Calculando P(A ∩ B) e P(B)\n",
    "P_A_e_B = ((evento_A & evento_B).sum()) / len(df_principal)\n",
    "P_B = (evento_B.sum()) / len(df_principal)\n",
    "\n",
    "# Calculando P(A|B) se P(B) não for zero\n",
    "if P_B > 0:\n",
    "    P_A_condicional_B = P_A_e_B / P_B\n",
    "    print(f\"Interpretação estatística: A probabilidade de uma música ter uma popularidade alta no Spotify dado que ela possui um número elevado de postagens no TikTok é de: {P_A_condicional_B:.2f}\")\n",
    "else:\n",
    "    print(\"Não há postagens no TikTok acima do limiar definido.\")\n",
    "\n",
    "print(\"Interpretação Estatística do Resultado:\")\n",
    "print(f\"A probabilidade de {P_A_condicional_B:.2f}, ou {P_A_condicional_B*100:.0f}%, indica que, entre as músicas que possuem um elevado número de postagens no TikTok (acima do limiar definido), apenas {P_A_condicional_B*100:.0f}% também têm uma alta popularidade no Spotify (definida como uma pontuação de popularidade acima de 80).\")\n",
    "print(\"O que isso significa?\")\n",
    "print(\"Relação Fraca: Essa probabilidade relativamente baixa sugere que há uma relação fraca entre a popularidade no Spotify e a quantidade de postagens no TikTok. Em outras palavras, ter muitas postagens no TikTok não garante que a música será popular no Spotify.\")\n",
    "print(\"Fatores Externos: A popularidade de uma música pode depender de muitos fatores além das postagens no TikTok, como:\")\n",
    "print(\"A qualidade da música.\")\n",
    "print(\"A promoção em outras plataformas.\")\n",
    "print(\"A presença do artista na mídia.\")\n",
    "print(\"Tendências e desafios virais que podem não estar necessariamente ligados a postagens no TikTok.\")\n",
    "print(\"Estratégias de Marketing: Para artistas e equipes de marketing, essa informação pode ser útil para entender que, embora o TikTok possa ajudar na promoção de uma música, não é a única variável a considerar para alcançar a popularidade no Spotify.\")\n",
    "\n"
   ]
  }
 ],
 "metadata": {
  "kernelspec": {
   "display_name": "Python 3",
   "language": "python",
   "name": "python3"
  },
  "language_info": {
   "codemirror_mode": {
    "name": "ipython",
    "version": 3
   },
   "file_extension": ".py",
   "mimetype": "text/x-python",
   "name": "python",
   "nbconvert_exporter": "python",
   "pygments_lexer": "ipython3",
   "version": "3.12.6"
  }
 },
 "nbformat": 4,
 "nbformat_minor": 2
}
